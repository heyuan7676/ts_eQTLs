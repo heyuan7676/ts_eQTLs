{
 "cells": [
  {
   "cell_type": "markdown",
   "metadata": {},
   "source": [
    "## Learn factors using sn-spMF\n",
    "\n",
    "`sn_spMF/`: Functions to run constraint matrix factorization\n",
    "\n",
    "`run_MF.R`:  Main function to run weighted sn-spMF\n",
    "            <br>\n",
    "            > Objective: $\\min_{F,L} ||(X - LF') \\odot W||_F^2 + \\alpha_1|L|_1 + \\lambda_1|F|_1$, $F$ is non-negative\n",
    "            <br>\n",
    "            > Input: $K$: Rank of $F$, or number of factors;\n",
    "                   $\\alpha_1$: l1 penalty for $L$;\n",
    "                   $\\lambda_1$: l1 penalty for $F$.\n",
    "\t\t           (These parameters should be selected using `run_MF_train_coph.R`)\n",
    "            <br>\n",
    "            > Output: the factor matrix $F$\n",
    "            <br>\n",
    "            > Note: in R package \"penalized\", forced the penalization step to run with no standardization by setting weights = 1. This is specifically designed for eQTL effect sizes across tissues, since the strength of effect sizes provides information and should not be standardized.\n",
    "\n",
    "\n",
    "`fit_F.R`: Update factors\n",
    "            <br>\n",
    "            > Objective: $\\min_F ||(X - LF') \\odot W||_F^2 + \\lambda_1|F|_1$, $F$ is non-negative\n",
    "\n",
    "`fit_L.R`: Update $L$\n",
    "            <br>\n",
    "            > Objective: $\\min_L ||(X - LF') \\odot W||_F^2 + \\alpha_1|L|_1$\n",
    "\n",
    "\n",
    "\n",
    "\n",
    "##  Map eQTLs to factors using weighted linear regression\n",
    "\n",
    "`mapping/`: Functions to map eQTLs to factors\n",
    "\n",
    "`run_linearReg.R`: Run weighted linear regression\n"
   ]
  },
  {
   "cell_type": "markdown",
   "metadata": {},
   "source": [
    "$\\min_{F,L} ||(X - LF') .* W||_F^2 + alpha1*|L|_1 + lambda1*|F|_1$"
   ]
  },
  {
   "cell_type": "code",
   "execution_count": null,
   "metadata": {},
   "outputs": [],
   "source": []
  }
 ],
 "metadata": {
  "kernelspec": {
   "display_name": "IPython (Python 3)",
   "language": "python",
   "name": "python3"
  },
  "language_info": {
   "codemirror_mode": {
    "name": "ipython",
    "version": 3
   },
   "file_extension": ".py",
   "mimetype": "text/x-python",
   "name": "python",
   "nbconvert_exporter": "python",
   "pygments_lexer": "ipython3",
   "version": "3.6.6"
  }
 },
 "nbformat": 4,
 "nbformat_minor": 2
}
