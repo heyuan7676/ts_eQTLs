{
 "cells": [
  {
   "cell_type": "code",
   "execution_count": 1,
   "metadata": {},
   "outputs": [],
   "source": [
    "import os\n",
    "import sys\n",
    "sys.path.append('/home-4/yhe23@jhu.edu/work/yuan/tools/python_lib/lib/python2.7/site-packages')\n",
    "\n",
    "import pandas as pd\n",
    "import numpy as np\n",
    "from matplotlib import pyplot as plt\n",
    "import seaborn as sns\n",
    "\n",
    "\n",
    "import os\n",
    "import sys\n",
    "import numpy as np\n",
    "import pandas as pd\n",
    "from scipy.stats import fisher_exact\n",
    "from scipy import stats\n",
    "\n",
    "\n",
    "from scipy.io import loadmat\n",
    "from statsmodels.stats import multitest \n",
    "from scipy.stats import ranksums\n",
    "from scipy.stats import wilcoxon\n",
    "\n",
    "from collections import Counter"
   ]
  },
  {
   "cell_type": "code",
   "execution_count": 25,
   "metadata": {},
   "outputs": [
    {
     "name": "stdout",
     "output_type": "stream",
     "text": [
      "0 0\n",
      "1 193\n",
      "3 108\n",
      "4 202\n",
      "8 123\n",
      "11 366\n",
      "14 58\n",
      "15 101\n",
      "18 71\n",
      "19 539\n",
      "20 307\n",
      "21 226\n",
      "22 97\n"
     ]
    }
   ],
   "source": [
    "%run utils.ipynb\n",
    "[X, Comp_tissues, tissues] = readin_X(FMfn)\n",
    "\n",
    "shared_pairs = pd.read_csv('%s/%s_outlierPairs_group%d.txt' % (pairdir, LMfn, 0) , sep='\\t', header=None)\n",
    "shared_genes = set(np.array(shared_pairs[0]))\n",
    "\n",
    "\n",
    "### gene with ts-eQTL in enhancer\n",
    "\n",
    "dnase_roadmap_dir = '/work-zfs/abattle4/heyuan/tissue_spec_eQTL_v8/downstream/TF_mechanism/SNP_in_ROADMAP_DNase'\n",
    "for group in range(23):\n",
    "#for group in [19]:\n",
    "    group_gene = []\n",
    "    for tis in Comp_tissues[group]:\n",
    "        try:\n",
    "            fn = pd.read_csv('%s/genes_SNP_inEnh_%s_group%d_open.txt' % (dnase_roadmap_dir, tis, group), sep='\\t', header=None)\n",
    "            group_gene.append(np.unique(fn[0]))\n",
    "        except:\n",
    "            continue\n",
    "        \n",
    "    if len(group_gene) > 0:\n",
    "        group_gene = np.unique([a for b in group_gene for a in b])   \n",
    "        group_gene = list(set(group_gene) - set(shared_genes))\n",
    "        group_gene_df = pd.DataFrame({\"V2\":list(group_gene), \"V1\":[gene_annotation[g][0] for g in group_gene]})\n",
    "        print(group, len(group_gene_df))\n",
    "    \n",
    "        group_gene_df.to_csv('%s/%s_Enh_group%d.txt' % (pairdir, LMfn, group), sep='\\t', index = False)\n",
    "    \n",
    "    \n",
    "    "
   ]
  },
  {
   "cell_type": "code",
   "execution_count": null,
   "metadata": {},
   "outputs": [],
   "source": []
  },
  {
   "cell_type": "code",
   "execution_count": null,
   "metadata": {},
   "outputs": [],
   "source": []
  },
  {
   "cell_type": "code",
   "execution_count": 9,
   "metadata": {},
   "outputs": [],
   "source": [
    "del B"
   ]
  },
  {
   "cell_type": "code",
   "execution_count": 3,
   "metadata": {},
   "outputs": [],
   "source": [
    "### get the top genes per factors\n",
    "\n",
    "%run utils.ipynb\n",
    "[X, Comp_tissues, tissues] = readin_X(FMfn)\n",
    "[Y, W, pV, B] = readin_YW_BP(inputprefix, Nrows_to_read=None)\n",
    "\n",
    "B = np.abs(B)\n",
    "B['gene'] = [p[0] for p in B.index]\n",
    "\n"
   ]
  },
  {
   "cell_type": "code",
   "execution_count": 7,
   "metadata": {},
   "outputs": [],
   "source": [
    "shared_genes = np.array(list(set([x[0] for x in B[B[0]!=0].index])))\n",
    "ts_genes = np.array(list(set(B['gene']) - set(shared_genes)))"
   ]
  },
  {
   "cell_type": "code",
   "execution_count": 5,
   "metadata": {},
   "outputs": [
    {
     "name": "stdout",
     "output_type": "stream",
     "text": [
      "12907 4572\n"
     ]
    }
   ],
   "source": [
    "print(len(shared_genes), len(ts_genes))"
   ]
  },
  {
   "cell_type": "code",
   "execution_count": 8,
   "metadata": {},
   "outputs": [],
   "source": [
    "B_ts = B.loc[ts_genes]\n",
    "B_shared = B.loc[shared_genes]"
   ]
  },
  {
   "cell_type": "code",
   "execution_count": null,
   "metadata": {},
   "outputs": [],
   "source": []
  },
  {
   "cell_type": "code",
   "execution_count": 10,
   "metadata": {
    "scrolled": true
   },
   "outputs": [
    {
     "name": "stdout",
     "output_type": "stream",
     "text": [
      "1 324\n",
      "2 244\n",
      "3 144\n",
      "4 124\n",
      "5 147\n",
      "6 77\n",
      "7 141\n",
      "8 72\n",
      "9 103\n",
      "10 242\n",
      "11 58\n",
      "12 278\n",
      "13 128\n",
      "14 74\n",
      "15 130\n",
      "16 89\n",
      "17 878\n",
      "18 80\n",
      "19 86\n",
      "20 115\n",
      "21 169\n",
      "22 148\n",
      "0 479\n"
     ]
    }
   ],
   "source": [
    "topGene_N = 5\n",
    "\n",
    "gene_sum = B_ts.groupby('gene').sum()\n",
    "number_factors = np.sum(gene_sum!=0, axis=1)\n",
    "\n",
    "gene_one_factor = gene_sum.index[np.intersect1d(np.where(number_factors > 0)[0], np.where(number_factors <= topGene_N))]\n",
    "B_gene_onefactor = B_ts.loc[gene_one_factor]\n",
    "\n",
    "\n",
    "for k in range(1, 23):    \n",
    "    b_group = B_gene_onefactor[B_gene_onefactor[k] != 0][k]\n",
    "    b_group = pd.DataFrame(b_group).copy()\n",
    "    b_group['gene'] = [p[0] for p in b_group.index]\n",
    "    b_group[k] = np.abs(b_group[k])\n",
    "    \n",
    "    ## gene-level maximum coefficient\n",
    "    b_group_gene_max_b = b_group.groupby('gene').max()\n",
    "    b_group_gene_max_b = b_group_gene_max_b.sort_values(k, ascending = False)\n",
    "    print(k, len(b_group_gene_max_b))\n",
    "    \n",
    "    fn = open('%s/%s_topGene%d_group%d.txt' % (pairdir, LMfn, topGene_N, k), 'w')\n",
    "    for g in b_group_gene_max_b.index:\n",
    "        fn.write('%s\\t%s\\n' % (g, gene_annotation[g][0]))\n",
    "    fn.close()\n",
    "    \n",
    "\n",
    "gene_sum_shared = B_shared.groupby('gene').sum()\n",
    "number_factors_shared = np.sum(gene_sum_shared!=0, axis=1)\n",
    "\n",
    "## shared genes\n",
    "gene_one_factor = gene_sum_shared.index[np.intersect1d(np.where(number_factors_shared > 0)[0], np.where(number_factors_shared <= topGene_N))]\n",
    "B_gene_onefactor = B_shared.loc[gene_one_factor]\n",
    "\n",
    "print(0, len(set(B_gene_onefactor['gene'])))\n",
    "fn = open('%s/%s_topGene%d_group%d.txt' % (pairdir, LMfn, topGene_N, 0), 'w')\n",
    "for g in set(B_gene_onefactor['gene']):\n",
    "    fn.write('%s\\t%s\\n' % (g, gene_annotation[g][0]))\n",
    "fn.close()\n",
    "\n"
   ]
  },
  {
   "cell_type": "code",
   "execution_count": null,
   "metadata": {},
   "outputs": [],
   "source": []
  },
  {
   "cell_type": "code",
   "execution_count": null,
   "metadata": {},
   "outputs": [],
   "source": []
  },
  {
   "cell_type": "code",
   "execution_count": 37,
   "metadata": {
    "scrolled": true
   },
   "outputs": [
    {
     "name": "stdout",
     "output_type": "stream",
     "text": [
      "1 38\n",
      "2 30\n",
      "3 25\n",
      "4 16\n",
      "5 15\n",
      "6 8\n",
      "7 22\n",
      "8 10\n",
      "9 34\n",
      "10 54\n",
      "11 19\n",
      "12 60\n",
      "13 33\n",
      "14 8\n",
      "15 39\n",
      "16 6\n",
      "17 303\n",
      "18 8\n",
      "19 24\n",
      "20 22\n",
      "21 12\n",
      "22 14\n"
     ]
    }
   ],
   "source": [
    "topGene_N = 1\n",
    "\n",
    "gene_sum = B_ts.groupby('gene').sum()\n",
    "number_factors = np.sum(gene_sum!=0, axis=1)\n",
    "\n",
    "gene_one_factor = gene_sum.index[np.intersect1d(np.where(number_factors > 0)[0], np.where(number_factors <= topGene_N))]\n",
    "B_gene_onefactor = B_ts.loc[gene_one_factor]\n",
    "\n",
    "\n",
    "for k in range(1, 23):    \n",
    "    b_group = B_gene_onefactor[B_gene_onefactor[k] != 0][k]\n",
    "    b_group = pd.DataFrame(b_group).copy()\n",
    "    b_group['gene'] = [p[0] for p in b_group.index]\n",
    "    b_group[k] = np.abs(b_group[k])\n",
    "    \n",
    "    ## gene-level maximum coefficient\n",
    "    b_group_gene_max_b = b_group.groupby('gene').max()\n",
    "    b_group_gene_max_b = b_group_gene_max_b.sort_values(k, ascending = False)\n",
    "    print(k, len(b_group_gene_max_b))\n",
    "    \n",
    "    fn = open('%s/%s_topGene%d_group%d.txt' % (pairdir, LMfn, topGene_N, k), 'w')\n",
    "    for g in b_group_gene_max_b.index:\n",
    "        fn.write('%s\\t%s\\n' % (g, gene_annotation[g][0]))\n",
    "    fn.close()\n",
    "    \n"
   ]
  },
  {
   "cell_type": "code",
   "execution_count": 28,
   "metadata": {},
   "outputs": [
    {
     "data": {
      "text/plain": [
       "Index(['ENSG00000001617.11', 'ENSG00000001631.15', 'ENSG00000002330.13',\n",
       "       'ENSG00000002834.17', 'ENSG00000004478.7', 'ENSG00000004776.12',\n",
       "       'ENSG00000004779.9', 'ENSG00000004838.13', 'ENSG00000004975.11',\n",
       "       'ENSG00000005001.9',\n",
       "       ...\n",
       "       'ENSG00000276043.4', 'ENSG00000276180.1', 'ENSG00000276231.4',\n",
       "       'ENSG00000276547.1', 'ENSG00000277117.4', 'ENSG00000277224.2',\n",
       "       'ENSG00000277399.4', 'ENSG00000277632.1', 'ENSG00000283154.2',\n",
       "       'ENSG00000284413.1'],\n",
       "      dtype='object', name='gene', length=2665)"
      ]
     },
     "execution_count": 28,
     "metadata": {},
     "output_type": "execute_result"
    }
   ],
   "source": [
    "gene_one_factor"
   ]
  },
  {
   "cell_type": "code",
   "execution_count": null,
   "metadata": {},
   "outputs": [],
   "source": []
  },
  {
   "cell_type": "code",
   "execution_count": null,
   "metadata": {},
   "outputs": [],
   "source": []
  },
  {
   "cell_type": "code",
   "execution_count": null,
   "metadata": {
    "scrolled": true
   },
   "outputs": [],
   "source": [
    "if 0:\n",
    "    LMfn = '%s%s_Loadings_projection' % (FMfn, LDprefix)\n",
    "    Bfn = '%s.txt' % LMfn\n",
    "    B = pd.read_csv('%s/%s' % (ll_dir, Bfn), sep='\\t', index_col = [0, 1], nrows =None)\n",
    "    B.columns = range(B.shape[1])\n",
    "\n",
    "\n",
    "\n",
    "    ### assign each gene to the factor with most SNPs in it\n",
    "    B['gene'] = [p[0] for p in B.index]\n",
    "    gene_belong_Factor = B.groupby('gene').apply(lambda x: np.argmax(np.array(np.sum(x!=0, axis=0))[:-1]))\n",
    "\n",
    "    for k in []:    \n",
    "        b_group_gene_max_b = gene_belong_Factor[gene_belong_Factor==k].index\n",
    "        print(k, len(b_group_gene_max_b))\n",
    "    \n",
    "        fn = open('%s/%s_topGene_belong_group%d.txt' % (pairdir, LMfn, k), 'w')\n",
    "        for g in b_group_gene_max_b:\n",
    "            fn.write('%s\\t%s\\n' % (g, gene_annotation[g][0]))\n",
    "        fn.close()\n",
    "        \n",
    "    del B['gene']"
   ]
  },
  {
   "cell_type": "code",
   "execution_count": 32,
   "metadata": {},
   "outputs": [],
   "source": [
    "### get background gene set\n",
    "\n",
    "allGenes_cbset = pd.read_csv('/work-zfs/abattle4/heyuan/tissue_spec_eQTL_v8/datasets/cbset_datasets/input_pairs/allGenes_ID.txt', sep='\\t', header=None)\n",
    "tested_gene_dir = '/work-zfs/abattle4/heyuan/tissue_spec_eQTL_v8/datasets/GTEx_datasets/allGenes_tested'\n",
    "\n",
    "for k in range(len(Comp_tissues)):\n",
    "    fn = pd.read_csv('%s/%s_topGene5_group%d.txt' % (pairdir, LMfn, k), sep='\\t', header=None)\n",
    "    tested_genes = []\n",
    "    for tis in Comp_tissues[k]:\n",
    "        tested_genes_dat = pd.read_csv('%s/%s_tested.genes.txt' % (tested_gene_dir, tis), sep='\\t', header=None)\n",
    "        tested_genes.append(np.array(tested_genes_dat[0]))\n",
    "    tested_genes = np.array([a for b in tested_genes for a in b])\n",
    "    #assert len(set(fn[0]) - set(tested_genes)) == 0\n",
    "    \n",
    "    group_tested_genes = np.intersect1d(tested_genes, allGenes_cbset[0])\n",
    "    genes_tested_in_group = allGenes_cbset.set_index(0, drop=False).loc[group_tested_genes]\n",
    "    \n",
    "    genes_tested_in_group.to_csv('/work-zfs/abattle4/heyuan/tissue_spec_eQTL_v8/datasets/cbset_datasets/input_pairs/tested_genes_in_cbset/Group%d_genes.txt' % k, sep='\\t', index = False, header=None)\n",
    "    "
   ]
  },
  {
   "cell_type": "code",
   "execution_count": null,
   "metadata": {},
   "outputs": [],
   "source": [
    "### in bash, run 6_gsea_gene.sh (bash 6_gsea_gene.sh groupxx)"
   ]
  },
  {
   "cell_type": "code",
   "execution_count": null,
   "metadata": {},
   "outputs": [],
   "source": []
  },
  {
   "cell_type": "code",
   "execution_count": null,
   "metadata": {},
   "outputs": [],
   "source": []
  },
  {
   "cell_type": "code",
   "execution_count": null,
   "metadata": {},
   "outputs": [],
   "source": []
  },
  {
   "cell_type": "code",
   "execution_count": null,
   "metadata": {},
   "outputs": [],
   "source": []
  },
  {
   "cell_type": "code",
   "execution_count": null,
   "metadata": {},
   "outputs": [],
   "source": [
    "### credible set eGenes"
   ]
  },
  {
   "cell_type": "code",
   "execution_count": 44,
   "metadata": {},
   "outputs": [],
   "source": [
    "cb_egene_dir = '/work-zfs/abattle4/heyuan/tissue_spec_eQTL_v8/datasets/cbset_datasets/caviar_output_GTEx_LD/aggregate'\n",
    "eGene_vec = []\n",
    "for tis in tissues:\n",
    "    fn = pd.read_csv('%s/%s_95set_pairs.txt' % (cb_egene_dir, tis), usecols=[0], sep='\\t', header=None)\n",
    "    eGene_vec.append(list(set(fn[0])))\n",
    "    \n",
    "eGene_vec = [a for b in eGene_vec for a in b]"
   ]
  },
  {
   "cell_type": "code",
   "execution_count": 62,
   "metadata": {},
   "outputs": [],
   "source": [
    "eGene_dict = pd.DataFrame.from_dict(Counter(eGene_vec), orient='index')\n",
    "eGene_dict = eGene_dict[eGene_dict[0] <4]"
   ]
  },
  {
   "cell_type": "code",
   "execution_count": 63,
   "metadata": {
    "scrolled": true
   },
   "outputs": [
    {
     "name": "stdout",
     "output_type": "stream",
     "text": [
      "Adipose_Subcutaneous 354\n",
      "Adipose_Visceral_Omentum 190\n",
      "Adrenal_Gland 146\n",
      "Artery_Aorta 175\n",
      "Artery_Coronary 42\n",
      "Artery_Tibial 254\n",
      "Brain_Amygdala 38\n",
      "Brain_Anterior_cingulate_cortex_BA24 86\n",
      "Brain_Caudate_basal_ganglia 181\n",
      "Brain_Cerebellar_Hemisphere 359\n",
      "Brain_Cerebellum 433\n",
      "Brain_Cortex 186\n",
      "Brain_Frontal_Cortex_BA9 135\n",
      "Brain_Hippocampus 66\n",
      "Brain_Hypothalamus 81\n",
      "Brain_Nucleus_accumbens_basal_ganglia 182\n",
      "Brain_Putamen_basal_ganglia 105\n",
      "Brain_Spinal_cord_cervical_c-1 74\n",
      "Brain_Substantia_nigra 30\n",
      "Breast_Mammary_Tissue 153\n",
      "Cells_EBV-transformed_lymphocytes 153\n",
      "Cells_Cultured_fibroblasts 472\n",
      "Colon_Sigmoid 114\n",
      "Colon_Transverse 260\n",
      "Esophagus_Gastroesophageal_Junction 86\n",
      "Esophagus_Mucosa 415\n",
      "Esophagus_Muscularis 170\n",
      "Heart_Atrial_Appendage 167\n",
      "Heart_Left_Ventricle 120\n",
      "Kidney_Cortex 45\n",
      "Liver 212\n",
      "Lung 387\n",
      "Minor_Salivary_Gland 95\n",
      "Muscle_Skeletal 322\n",
      "Nerve_Tibial 549\n",
      "Ovary 91\n",
      "Pancreas 217\n",
      "Pituitary 320\n",
      "Prostate 165\n",
      "Skin_Not_Sun_Exposed_Suprapubic 524\n",
      "Skin_Sun_Exposed_Lower_leg 642\n",
      "Small_Intestine_Terminal_Ileum 158\n",
      "Spleen 388\n",
      "Stomach 116\n",
      "Testis 3622\n",
      "Thyroid 668\n",
      "Uterus 42\n",
      "Vagina 54\n",
      "Whole_Blood 495\n"
     ]
    }
   ],
   "source": [
    "cb_egene_dir = '/work-zfs/abattle4/heyuan/tissue_spec_eQTL_v8/datasets/cbset_datasets/caviar_output_GTEx_LD/aggregate'\n",
    "\n",
    "for tis in tissues:\n",
    "    eGenes = pd.read_csv('%s/%s_95set_pairs.txt' % (cb_egene_dir, tis), usecols=[0], sep='\\t', header=None)\n",
    "    eGenes_uniq = np.intersect1d(list(set(eGenes[0])), eGene_dict.index)\n",
    "    print(tis, len(eGenes_uniq))\n",
    "    \n",
    "    outfn = open('%s/cbset_eGenes_topGene3_%s.txt' % (pairdir, tis), 'w')\n",
    "    for g in eGenes_uniq:\n",
    "        outfn.write('%s\\t%s\\n' % (g, gene_annotation[g][0]))\n",
    "    outfn.close()"
   ]
  },
  {
   "cell_type": "code",
   "execution_count": 60,
   "metadata": {},
   "outputs": [
    {
     "data": {
      "text/plain": [
       "4770"
      ]
     },
     "execution_count": 60,
     "metadata": {},
     "output_type": "execute_result"
    }
   ],
   "source": [
    "len(eGene_dict)"
   ]
  },
  {
   "cell_type": "code",
   "execution_count": null,
   "metadata": {},
   "outputs": [],
   "source": []
  },
  {
   "cell_type": "code",
   "execution_count": 91,
   "metadata": {},
   "outputs": [
    {
     "name": "stdout",
     "output_type": "stream",
     "text": [
      "4\n"
     ]
    }
   ],
   "source": [
    "def readin_gsea_result_cbset_eGenes(featureName, geneset, HIT):\n",
    "    gsea_dat = pd.DataFrame()\n",
    "\n",
    "    for tis in tissues:\n",
    "        gsea_fn = '%s/cbset_eGenes%s_%s_enrichment_%s_c5.bp.v6.2.symbols.gmt.txt' % (gsea_dir, geneset, tis, featureName)\n",
    "        try:\n",
    "            gsea_dat_tis = pd.read_csv(gsea_fn, sep='\\t', index_col = 0)\n",
    "            if np.sum(gsea_dat_tis['test_inset']!=0) == 0:\n",
    "                continue\n",
    "        except:\n",
    "            continue\n",
    "\n",
    "        gsea_dat_tis['tissues'] = tis\n",
    "        gsea_dat = gsea_dat.append(gsea_dat_tis)\n",
    "    \n",
    "    gsea_dat = gsea_dat[gsea_dat['test_inset'] + gsea_dat['background_inset'] > HIT]\n",
    "    #gsea_dat = gsea_dat[gsea_dat['oddsratio'] > 1]\n",
    "\n",
    "    #gsea_dat = gsea_dat[gsea_dat['group'] != 13]\n",
    "    #gsea_dat = gsea_dat[gsea_dat['group'] != 0]\n",
    "    gsea_dat['BH_p'] = multitest.multipletests(gsea_dat['pvalue'], method = 'fdr_bh')[1]\n",
    "    gsea_dat['Bonf_p'] = multitest.multipletests(gsea_dat['pvalue'])[1]\n",
    "\n",
    "    gsea_dat['N_genes'] = [len(gsea_pathways[g.replace(' ','')]) for g in np.array(gsea_dat.index)]\n",
    "    gsea_dat = gsea_dat.sort_values('pvalue')\n",
    "    return gsea_dat\n",
    "\n",
    "\n",
    "\n",
    "gsea_dir = '/work-zfs/abattle4/heyuan/tissue_spec_eQTL_v8/downstream/enrichmentTest/GSEA/old'\n",
    "featureName = 'None'\n",
    "geneSet = '5'\n",
    "\n",
    "[X, Comp_tissues, tissues] = readin_X(FMfn)\n",
    "\n",
    "eQTL_genes = readin_gsea_result_cbset_eGenes(featureName, geneSet, 10)\n",
    "eQTL_genes = eQTL_genes[eQTL_genes['N_genes'] < 1000]\n",
    "eQTL_genes = eQTL_genes[eQTL_genes['N_genes'] > 10]\n",
    "print(len(eQTL_genes[eQTL_genes['BH_p'] < 0.1]))"
   ]
  },
  {
   "cell_type": "code",
   "execution_count": 125,
   "metadata": {},
   "outputs": [],
   "source": [
    "sns.set(font_scale=1.3)\n",
    "sns.set_style('whitegrid')\n",
    "\n",
    "a = np.sort(-np.log10(mf_genes['pvalue']))\n",
    "b = np.sort(-np.log10(eQTL_genes['pvalue']))\n",
    "if len(a) > len(b):\n",
    "    a = np.random.choice(a, len(b), replace = False)\n",
    "else:\n",
    "    b = np.random.choice(b, len(a), replace = False)\n",
    "    \n",
    "    \n",
    "a = np.sort(a)\n",
    "b = np.sort(b)\n",
    "\n",
    "sns.set(font_scale=1.3)\n",
    "sns.set_style('whitegrid')\n",
    "\n",
    "plt.figure()\n",
    "plt.scatter(b, a)\n",
    "plt.ylabel('eGenes from matrix factorization')\n",
    "plt.xlabel('Credible sets eGenes')\n",
    "plt.title('qqplot of -log10 from GSEA results')\n",
    "plt.plot([0,12], [0,12])\n",
    "#plt.show()\n",
    "plt.savefig('/work-zfs/abattle4/heyuan/tissue_spec_eQTL_v8/plots/Supplementary/GO_enrichment_compare_mf_to_cbset_eGenes.png', dpi = 300)\n",
    "plt.close()"
   ]
  },
  {
   "cell_type": "code",
   "execution_count": null,
   "metadata": {},
   "outputs": [],
   "source": []
  },
  {
   "cell_type": "code",
   "execution_count": null,
   "metadata": {},
   "outputs": [],
   "source": []
  },
  {
   "cell_type": "code",
   "execution_count": null,
   "metadata": {},
   "outputs": [],
   "source": []
  },
  {
   "cell_type": "code",
   "execution_count": 3,
   "metadata": {
    "scrolled": true
   },
   "outputs": [
    {
     "name": "stdout",
     "output_type": "stream",
     "text": [
      "Adipose_Subcutaneous\n",
      "Adipose_Visceral_Omentum\n",
      "Adrenal_Gland\n",
      "Artery_Aorta\n",
      "Artery_Coronary\n",
      "Artery_Tibial\n",
      "Bladder.txt not exist \n",
      "Brain_Amygdala\n",
      "Brain_Anterior_cingulate_cortex_BA24\n",
      "Brain_Caudate_basal_ganglia\n",
      "Brain_Cerebellar_Hemisphere\n",
      "Brain_Cerebellum\n",
      "Brain_Cortex\n",
      "Brain_Frontal_Cortex_BA9\n",
      "Brain_Hippocampus\n",
      "Brain_Hypothalamus\n",
      "Brain_Nucleus_accumbens_basal_ganglia\n",
      "Brain_Putamen_basal_ganglia\n",
      "Brain_Spinal_cord_cervical_c-1\n",
      "Brain_Substantia_nigra\n",
      "Breast_Mammary_Tissue\n",
      "Cells_Cultured_fibroblasts\n",
      "Cells_EBV-transformed_lymphocytes\n",
      "Cervix-Ectocervix.txt not exist \n",
      "Cervix-Endocervix.txt not exist \n",
      "Colon_Sigmoid\n",
      "Colon_Transverse\n",
      "Esophagus_Gastroesophageal_Junction\n",
      "Esophagus_Mucosa\n",
      "Esophagus_Muscularis\n",
      "FallopianTube.txt not exist \n",
      "Heart_Atrial_Appendage\n",
      "Heart_Left_Ventricle\n",
      "Kidney_Cortex\n",
      "Kidney-Medulla.txt not exist \n",
      "Liver\n",
      "Lung\n",
      "Minor_Salivary_Gland\n",
      "Muscle_Skeletal\n",
      "Nerve_Tibial\n",
      "Ovary\n",
      "Pancreas\n",
      "Pituitary\n",
      "Prostate\n",
      "Skin_Not_Sun_Exposed_Suprapubic\n",
      "Skin_Sun_Exposed_Lower_leg\n",
      "Small_Intestine_Terminal_Ileum\n",
      "Spleen\n",
      "Stomach\n",
      "Testis\n",
      "Thyroid\n",
      "Uterus\n",
      "Vagina\n",
      "Whole_Blood\n"
     ]
    }
   ],
   "source": [
    "tissue_names = pd.read_csv('tissues.txt', sep='\\t', header=None, index_col = 1)\n",
    "\n",
    "gene_tpm_tissues = {}\n",
    "TPM_dir = '/work-zfs/abattle4/lab_data/GTEx_v8/processed/rna_seq_by_tissue/gene_tpm/'\n",
    "for file in np.sort(os.listdir(TPM_dir)):\n",
    "    tis = file.replace('.txt','')\n",
    "    try:\n",
    "        print(tissue_names.loc[tis][0])\n",
    "        tp = pd.read_csv('%s/%s' % (TPM_dir, file), index_col = 0, sep='\\t')\n",
    "        gene_tpm_tissues[tissue_names.loc[tis][0]] = tp[tp.columns[1:]]\n",
    "    except:\n",
    "        print('%s not exist ' % file)"
   ]
  },
  {
   "cell_type": "code",
   "execution_count": 39,
   "metadata": {},
   "outputs": [],
   "source": [
    "### gene TPM \n",
    "\n",
    "%run utils.ipynb\n",
    "\n",
    "top_genes_group = {}\n",
    "\n",
    "for k in range(1,23):\n",
    "    gene_dat = pd.read_csv('%s/%s_topGene5_group%d.txt' % (pairdir, LMfn, k), sep='\\t', header=None)\n",
    "    geneset = np.array(gene_dat[0])\n",
    "    for g in geneset:\n",
    "        if g not in top_genes_group:\n",
    "            top_genes_group[g] = [k]\n",
    "        else:\n",
    "            top_genes_group[g].append(k)\n",
    "    "
   ]
  },
  {
   "cell_type": "code",
   "execution_count": 129,
   "metadata": {},
   "outputs": [],
   "source": [
    "### gene tested\n",
    "\n",
    "tested_genes_group = {}\n",
    "\n",
    "for k in range(len(Comp_tissues)):    \n",
    "    gene_dat = pd.read_csv('/work-zfs/abattle4/heyuan/tissue_spec_eQTL_v8/datasets/cbset_datasets/input_pairs/tested_genes_in_cbset/Group%d_genes.txt' % k, sep='\\t', header=None)\n",
    "    geneset = np.array(gene_dat[0])\n",
    "    for g in geneset:\n",
    "        if g not in tested_genes_group.keys():\n",
    "            tested_genes_group[g] = [k]\n",
    "        else:\n",
    "            tested_genes_group[g].append(k)\n",
    "    \n"
   ]
  },
  {
   "cell_type": "code",
   "execution_count": 136,
   "metadata": {
    "scrolled": false
   },
   "outputs": [
    {
     "data": {
      "image/png": "[encoded data removed]",
      "text/plain": [
       "<Figure size 432x288 with 1 Axes>"
      ]
     },
     "metadata": {},
     "output_type": "display_data"
    },
    {
     "data": {
      "image/png": "[encoded data removed]",
      "text/plain": [
       "<Figure size 432x288 with 1 Axes>"
      ]
     },
     "metadata": {},
     "output_type": "display_data"
    }
   ],
   "source": [
    "### gene TPM median\n",
    "\n",
    "\n",
    "gene_tpm_mt = []\n",
    "gene_tpm_unmt = []\n",
    "top_genes = []\n",
    "\n",
    "weired_genes = []\n",
    "\n",
    "for g in top_genes_group.keys():\n",
    "    \n",
    "    top_genes.append(g)\n",
    "    \n",
    "    matched_tis = [Comp_tissues[k] for k in top_genes_group[g]]\n",
    "    matched_tis = np.array([a for b in matched_tis for a in b])\n",
    "    \n",
    "    un_matched_tested_tis = [Comp_tissues[k] for k in set(tested_genes_group[g]) - set(top_genes_group[g])]\n",
    "    un_matched_tested_tis = np.array([a for b in un_matched_tested_tis for a in b])\n",
    "    \n",
    "    if(len(un_matched_tested_tis) == 0):\n",
    "        continue\n",
    "    \n",
    "    mt_tp = []\n",
    "    for tis in matched_tis:\n",
    "        mt_tp.append(np.median(gene_tpm_tissues[tis].loc[g]))\n",
    "        \n",
    "    if np.median(mt_tp) == 0:\n",
    "        weired_genes.append([g, top_genes_group[g]])\n",
    "    \n",
    "    unmt_tp = []\n",
    "    for tis in un_matched_tested_tis:\n",
    "        unmt_tp.append(np.median(gene_tpm_tissues[tis].loc[g]))\n",
    "        \n",
    "        \n",
    "    gene_tpm_mt.append(np.median(mt_tp))\n",
    "    gene_tpm_unmt.append(np.median(unmt_tp))\n",
    "\n",
    "\n",
    "    \n",
    "gene_tpm_mt = np.log10(np.array(gene_tpm_mt)+0.001)\n",
    "gene_tpm_unmt = np.log10(np.array(gene_tpm_unmt) + 0.001)\n",
    "\n",
    "plt.figure()\n",
    "plt.hist(gene_tpm_mt, color = 'red', bins = 20, density=True, histtype='step', label = 'matched tissues')\n",
    "plt.hist(gene_tpm_unmt, color = 'blue', bins = 20, density=True, histtype='step', label = 'unmatched tissues')\n",
    "plt.legend()\n",
    "plt.show()\n",
    "plt.close()\n",
    "\n",
    "\n",
    "\n",
    "dat_tp = pd.DataFrame({\"gene\": top_genes, \"matched\": gene_tpm_mt, \"un-matched\": gene_tpm_unmt})\n",
    "dat_tp.to_csv('/work-zfs/abattle4/heyuan/tissue_spec_eQTL_v8/plots/Fig4_eGenes_exp.txt', sep='\\t', index = False)\n",
    "\n",
    "plt.figure()\n",
    "plt.scatter(dat_tp['un-matched'], dat_tp['matched'], alpha = 0.1)\n",
    "plt.plot([0,8], [0,8])\n",
    "plt.show()\n",
    "plt.close()\n"
   ]
  },
  {
   "cell_type": "code",
   "execution_count": 140,
   "metadata": {},
   "outputs": [
    {
     "data": {
      "text/plain": [
       "(31.95836359235052, 5.485551676760415e-268)"
      ]
     },
     "execution_count": 140,
     "metadata": {},
     "output_type": "execute_result"
    }
   ],
   "source": [
    "A = np.sum(gene_tpm_mt == np.log10(0.001))\n",
    "B = float(np.sum(gene_tpm_unmt == np.log10(0.001)))\n",
    "\n",
    "C=float(np.sum(gene_tpm_mt != np.log10(0.001)))\n",
    "D=(np.sum(gene_tpm_unmt != np.log10(0.001)))\n",
    "\n",
    "fisher_exact([[C,D], [A,B]])\n"
   ]
  },
  {
   "cell_type": "code",
   "execution_count": 146,
   "metadata": {},
   "outputs": [],
   "source": [
    "### ts to shared\n",
    "\n",
    "gene_dat = pd.read_csv('%s/%s_topGene5_group%d.txt' % (pairdir, LMfn, 0), sep='\\t', header=None)\n",
    "shared_genes = np.array(gene_dat[0])\n",
    "    \n",
    "    \n",
    "### gene TPM \n",
    "\n",
    "gene_tpm_ts = {}\n",
    "gene_tpm_shared = {}\n",
    "\n",
    "for k in range(1,23):\n",
    "    gene_dat = pd.read_csv('%s/%s_topGene5_group%d.txt' % (pairdir, LMfn, k), sep='\\t', header=None)\n",
    "    ts_geneset = np.array(gene_dat[0])\n",
    "    \n",
    "    tp_ts, tp_sh = [], []\n",
    "    for tis in Comp_tissues[k]:\n",
    "        tp_ts.append(np.median(gene_tpm_tissues[tis].loc[ts_geneset], axis=1))\n",
    "        tp_sh.append(np.median(gene_tpm_tissues[tis].loc[shared_genes], axis=1))\n",
    "        \n",
    "    gene_tpm_ts[k] = np.log(np.median(np.array(tp_ts), axis=0) + 0.001)\n",
    "    gene_tpm_shared[k] = np.log(np.median(np.array(tp_sh), axis=0) + 0.001)\n",
    "    \n",
    "    if 0:\n",
    "        plt.figure()\n",
    "        plt.hist(gene_tpm_ts[k], color = 'red', bins = 20, density=True, histtype='step', label = 'ts_genes')\n",
    "        plt.hist(gene_tpm_shared[k], color = 'blue', bins = 20, density=True, histtype='step', label = 'shared_genes')\n",
    "        plt.legend()\n",
    "        plt.title('Group %d' % k)\n",
    "        plt.show()\n",
    "        plt.close()\n",
    "\n",
    "        \n",
    "gene_tpm_ts = [a for b in gene_tpm_ts.values() for a in b]\n",
    "gene_tpm_shared = [a for b in gene_tpm_shared.values() for a in b] "
   ]
  },
  {
   "cell_type": "code",
   "execution_count": 154,
   "metadata": {},
   "outputs": [],
   "source": [
    "\n",
    "plt.figure(figsize = (10,5))\n",
    "plt.hist(gene_tpm_ts,  color = 'red', bins = 20, density=True, histtype='step', linewidth = 1.5,label = 'tissue-specific eGenes')\n",
    "plt.hist(gene_tpm_shared, color = 'blue', bins = 20, density=True, histtype='step', linewidth = 1.5, label = 'tissue-shared eGenes')\n",
    "plt.legend(loc = 1)\n",
    "plt.title('Distribution of log(TPM) of eGenes')\n",
    "plt.savefig('/work-zfs/abattle4/heyuan/tissue_spec_eQTL_v8/plots/Supplementary/TPM_shared_ts_eGenes.png', dpi = 300)\n",
    "plt.close()\n"
   ]
  },
  {
   "cell_type": "code",
   "execution_count": 80,
   "metadata": {},
   "outputs": [
    {
     "name": "stdout",
     "output_type": "stream",
     "text": [
      "5402\n",
      "3346\n"
     ]
    }
   ],
   "source": [
    "print(np.sum(gene_tpm_mt_all != np.log(0.001)))\n",
    "print(np.sum(gene_tpm_unmt_all != np.log(0.001)))"
   ]
  },
  {
   "cell_type": "code",
   "execution_count": 62,
   "metadata": {},
   "outputs": [
    {
     "data": {
      "text/plain": [
       "(2252.6600428080123, 0.0, 1, array([[1193., 4374.],\n",
       "        [1193., 4374.]]))"
      ]
     },
     "execution_count": 62,
     "metadata": {},
     "output_type": "execute_result"
    }
   ],
   "source": [
    "from scipy.stats import chi2_contingency\n",
    "chi2_contingency([[165, 5567 -165], [2221, 5567 - 2221]])"
   ]
  },
  {
   "cell_type": "code",
   "execution_count": 65,
   "metadata": {},
   "outputs": [
    {
     "data": {
      "text/plain": [
       "RanksumsResult(statistic=40.23238627417274, pvalue=0.0)"
      ]
     },
     "execution_count": 65,
     "metadata": {},
     "output_type": "execute_result"
    }
   ],
   "source": [
    "ranksums(gene_tpm_mt_all, gene_tpm_unmt_all)"
   ]
  },
  {
   "cell_type": "code",
   "execution_count": null,
   "metadata": {},
   "outputs": [],
   "source": []
  },
  {
   "cell_type": "code",
   "execution_count": null,
   "metadata": {},
   "outputs": [],
   "source": []
  }
 ],
 "metadata": {
  "anaconda-cloud": {},
  "kernelspec": {
   "display_name": "Python [default]",
   "language": "python",
   "name": "python3"
  },
  "language_info": {
   "codemirror_mode": {
    "name": "ipython",
    "version": 3
   },
   "file_extension": ".py",
   "mimetype": "text/x-python",
   "name": "python",
   "nbconvert_exporter": "python",
   "pygments_lexer": "ipython3",
   "version": "3.6.5"
  }
 },
 "nbformat": 4,
 "nbformat_minor": 1
}
