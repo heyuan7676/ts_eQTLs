{
 "cells": [
  {
   "cell_type": "code",
   "execution_count": 1,
   "metadata": {},
   "outputs": [],
   "source": [
    "import os\n",
    "import sys\n",
    "sys.path.append('/home-4/yhe23@jhu.edu/work/yuan/tools/python_lib/lib/python2.7/site-packages')\n",
    "\n",
    "import pandas as pd\n",
    "import numpy as np\n",
    "from matplotlib import pyplot as plt\n",
    "import seaborn as sns\n",
    "\n",
    "\n",
    "import os\n",
    "import sys\n",
    "import numpy as np\n",
    "import pandas as pd\n",
    "from scipy.stats import fisher_exact\n",
    "from scipy import stats\n",
    "\n",
    "\n",
    "from scipy.io import loadmat\n",
    "from statsmodels.stats import multitest \n",
    "from scipy.stats import ranksums\n",
    "from scipy.stats import wilcoxon\n",
    "\n",
    "from collections import Counter"
   ]
  },
  {
   "cell_type": "code",
   "execution_count": 2,
   "metadata": {},
   "outputs": [
    {
     "name": "stderr",
     "output_type": "stream",
     "text": [
      "ERROR:root:File `'utils.ipynb.py'` not found.\n"
     ]
    },
    {
     "ename": "NameError",
     "evalue": "name 'readin_X_flashr' is not defined",
     "output_type": "error",
     "traceback": [
      "\u001b[0;31m---------------------------------------------------------------------------\u001b[0m",
      "\u001b[0;31mNameError\u001b[0m                                 Traceback (most recent call last)",
      "\u001b[0;32m<ipython-input-2-dc9a0903d848>\u001b[0m in \u001b[0;36m<module>\u001b[0;34m()\u001b[0m\n\u001b[1;32m      2\u001b[0m \u001b[0;34m\u001b[0m\u001b[0m\n\u001b[1;32m      3\u001b[0m \u001b[0mget_ipython\u001b[0m\u001b[0;34m(\u001b[0m\u001b[0;34m)\u001b[0m\u001b[0;34m.\u001b[0m\u001b[0mrun_line_magic\u001b[0m\u001b[0;34m(\u001b[0m\u001b[0;34m'run'\u001b[0m\u001b[0;34m,\u001b[0m \u001b[0;34m'utils.ipynb'\u001b[0m\u001b[0;34m)\u001b[0m\u001b[0;34m\u001b[0m\u001b[0m\n\u001b[0;32m----> 4\u001b[0;31m \u001b[0;34m[\u001b[0m\u001b[0mX\u001b[0m\u001b[0;34m,\u001b[0m \u001b[0mComp_tissues\u001b[0m\u001b[0;34m,\u001b[0m \u001b[0mtissues\u001b[0m\u001b[0;34m]\u001b[0m \u001b[0;34m=\u001b[0m \u001b[0mreadin_X_flashr\u001b[0m\u001b[0;34m(\u001b[0m\u001b[0;34m)\u001b[0m\u001b[0;34m\u001b[0m\u001b[0m\n\u001b[0m",
      "\u001b[0;31mNameError\u001b[0m: name 'readin_X_flashr' is not defined"
     ]
    }
   ],
   "source": [
    "### get the top genes per factors\n",
    "\n",
    "%run utils.ipynb\n",
    "[X, Comp_tissues, tissues] = readin_X_flashr()"
   ]
  },
  {
   "cell_type": "code",
   "execution_count": 30,
   "metadata": {
    "scrolled": true
   },
   "outputs": [
    {
     "name": "stdout",
     "output_type": "stream",
     "text": [
      "Adipose_Subcutaneous\n",
      "Adipose_Visceral_Omentum\n",
      "Adrenal_Gland\n",
      "Artery_Aorta\n",
      "Artery_Coronary\n",
      "Artery_Tibial\n",
      "Brain_Amygdala\n",
      "Brain_Anterior_cingulate_cortex_BA24\n",
      "Brain_Caudate_basal_ganglia\n",
      "Brain_Cerebellar_Hemisphere\n",
      "Brain_Cerebellum\n",
      "Brain_Cortex\n",
      "Brain_Frontal_Cortex_BA9\n",
      "Brain_Hippocampus\n",
      "Brain_Hypothalamus\n",
      "Brain_Nucleus_accumbens_basal_ganglia\n",
      "Brain_Putamen_basal_ganglia\n",
      "Brain_Spinal_cord_cervical_c-1\n",
      "Brain_Substantia_nigra\n",
      "Breast_Mammary_Tissue\n",
      "Cells_EBV-transformed_lymphocytes\n",
      "Cells_Cultured_fibroblasts\n",
      "Colon_Sigmoid\n",
      "Colon_Transverse\n",
      "Esophagus_Gastroesophageal_Junction\n",
      "Esophagus_Mucosa\n",
      "Esophagus_Muscularis\n",
      "Heart_Atrial_Appendage\n",
      "Heart_Left_Ventricle\n",
      "Kidney_Cortex\n",
      "Liver\n",
      "Lung\n",
      "Minor_Salivary_Gland\n",
      "Muscle_Skeletal\n",
      "Nerve_Tibial\n",
      "Ovary\n",
      "Pancreas\n",
      "Pituitary\n",
      "Prostate\n",
      "Skin_Not_Sun_Exposed_Suprapubic\n",
      "Skin_Sun_Exposed_Lower_leg\n",
      "Small_Intestine_Terminal_Ileum\n",
      "Spleen\n",
      "Stomach\n",
      "Testis\n",
      "Thyroid\n",
      "Uterus\n",
      "Vagina\n",
      "Whole_Blood\n"
     ]
    }
   ],
   "source": [
    "### direct genes from  credible sets\n",
    "allGenes_cbset = pd.read_csv('/work-zfs/abattle4/heyuan/tissue_spec_eQTL_v8/datasets/cbset_datasets/input_pairs/allGenes_ID.txt', sep='\\t', header=None)\n",
    "\n",
    "cbset_dir = '/work-zfs/abattle4/heyuan/tissue_spec_eQTL_v8/datasets/cbset_datasets/caviar_output_GTEx_LD/aggregate'\n",
    "for tis in tissues:\n",
    "    print(tis)\n",
    "    tp = pd.read_csv('%s/%s_95set_pairs.txt' % (cbset_dir, tis), sep='\\t', header=None, usecols=[0])\n",
    "    tp_genes = np.unique(tp[0])\n",
    "    group_cbset_genes = np.intersect1d(tp_genes, allGenes_cbset[0])\n",
    "    \n",
    "    genes_cbset_in_group = allGenes_cbset.set_index(0, drop=False).loc[group_cbset_genes]\n",
    "    genes_cbset_in_group.to_csv('%s/%s_cbset_genes.txt' % (pairdir, tis), sep='\\t', index = False)"
   ]
  },
  {
   "cell_type": "code",
   "execution_count": 41,
   "metadata": {
    "scrolled": true
   },
   "outputs": [],
   "source": [
    "### get background gene set\n",
    "tested_gene_dir = '/work-zfs/abattle4/heyuan/tissue_spec_eQTL_v8/datasets/GTEx_datasets/allGenes_tested'\n",
    "\n",
    "### wrong!!!\n",
    "for tis in []:\n",
    "    print(tis)\n",
    "    tested_genes_dat = pd.read_csv('%s/%s_tested.genes.txt' % (tested_gene_dir, tis), sep='\\t', header=None)\n",
    "    tested_genes = np.unique(tested_genes_dat[0])\n",
    "    \n",
    "    group_tested_genes = np.intersect1d(tested_genes, allGenes_cbset[0])\n",
    "    genes_tested_in_group = allGenes_cbset.set_index(0, drop=False).loc[group_tested_genes]\n",
    "    genes_tested_in_group.to_csv('/work-zfs/abattle4/heyuan/tissue_spec_eQTL_v8/datasets/cbset_datasets/input_pairs/tested_genes_in_cbset/%s_genes.txt' % tis, sep='\\t', index = False, header=None)\n",
    "    \n",
    "    \n",
    "    "
   ]
  },
  {
   "cell_type": "code",
   "execution_count": 62,
   "metadata": {},
   "outputs": [
    {
     "name": "stdout",
     "output_type": "stream",
     "text": [
      "Adipose_Subcutaneous\n",
      "Adipose_Visceral_Omentum\n",
      "Adrenal_Gland\n",
      "Artery_Aorta\n",
      "Artery_Coronary\n",
      "Artery_Tibial\n",
      "Brain_Amygdala\n",
      "Brain_Anterior_cingulate_cortex_BA24\n",
      "Brain_Caudate_basal_ganglia\n",
      "Brain_Cerebellar_Hemisphere\n",
      "Brain_Cerebellum\n",
      "Brain_Cortex\n",
      "Brain_Frontal_Cortex_BA9\n",
      "Brain_Hippocampus\n",
      "Brain_Hypothalamus\n",
      "Brain_Nucleus_accumbens_basal_ganglia\n",
      "Brain_Putamen_basal_ganglia\n",
      "Brain_Spinal_cord_cervical_c-1\n",
      "Brain_Substantia_nigra\n",
      "Breast_Mammary_Tissue\n",
      "Cells_EBV-transformed_lymphocytes\n",
      "Cells_Cultured_fibroblasts\n",
      "Colon_Sigmoid\n",
      "Colon_Transverse\n",
      "Esophagus_Gastroesophageal_Junction\n",
      "Esophagus_Mucosa\n",
      "Esophagus_Muscularis\n",
      "Heart_Atrial_Appendage\n",
      "Heart_Left_Ventricle\n",
      "Kidney_Cortex\n",
      "Liver\n",
      "Lung\n",
      "Minor_Salivary_Gland\n",
      "Muscle_Skeletal\n",
      "Nerve_Tibial\n",
      "Ovary\n",
      "Pancreas\n",
      "Pituitary\n",
      "Prostate\n",
      "Skin_Not_Sun_Exposed_Suprapubic\n",
      "Skin_Sun_Exposed_Lower_leg\n",
      "Small_Intestine_Terminal_Ileum\n",
      "Spleen\n",
      "Stomach\n",
      "Testis\n",
      "Thyroid\n",
      "Uterus\n",
      "Vagina\n",
      "Whole_Blood\n"
     ]
    }
   ],
   "source": [
    "tested_gene_dir = '/work-zfs/abattle4/lab_data/GTEx_v8/ciseQTL/GTEx_Analysis_v8_eQTL'\n",
    "for tis in tissues:\n",
    "    print(tis)\n",
    "    tested_genes_dat = pd.read_csv('%s/%s.v8.egenes.txt' % (tested_gene_dir, tis), sep='\\t')\n",
    "    \n",
    "    protein_coding_idx = np.where([gene_annotation[g][4] == 'protein_coding' for g in tested_genes_dat['gene_id']])[0]\n",
    "    tested_genes_dat = tested_genes_dat.iloc[protein_coding_idx]\n",
    "    \n",
    "    tested_genes_dat[['gene_id', 'gene_name']].to_csv('/work-zfs/abattle4/heyuan/tissue_spec_eQTL_v8/datasets/cbset_datasets/input_pairs/tested_genes_in_cbset/%s_genes.txt' % tis, sep='\\t', index = False, header=None)"
   ]
  },
  {
   "cell_type": "code",
   "execution_count": 61,
   "metadata": {},
   "outputs": [
    {
     "data": {
      "text/plain": [
       "0.8737939620292562"
      ]
     },
     "execution_count": 61,
     "metadata": {},
     "output_type": "execute_result"
    }
   ],
   "source": [
    "x = pd.read_csv('/work-zfs/abattle4/heyuan/tissue_spec_eQTL_v8/downstream/enrichmentTest/GSEA/two_sided_test/Whole_Blood_cbset_genes_enrichment_c5.bp.v6.2.symbols.gmt.txt', sep='\\t')\n",
    "np.median(x['oddsratio'])"
   ]
  },
  {
   "cell_type": "code",
   "execution_count": 39,
   "metadata": {},
   "outputs": [],
   "source": [
    "### read in gene annotation\n",
    "gene_annotation = {}\n",
    "gene_annotation_rev = {}\n",
    "gene_annotation_fn = open('/work-zfs/abattle4/lab_data/annotation/gencode.v26/gencode.v26.annotation.gene.txt','r')\n",
    "\n",
    "for l in gene_annotation_fn.readlines():\n",
    "        l = l.rstrip().split('\\t')\n",
    "        ensemID = l[0].replace('\"','')\n",
    "        geneName = l[5]\n",
    "        gene_annotation[ensemID] = [geneName, l[1], l[2], l[3], l[6]]"
   ]
  },
  {
   "cell_type": "code",
   "execution_count": 40,
   "metadata": {},
   "outputs": [
    {
     "data": {
      "text/plain": [
       "['DPM1', 'chr20', '50934867', '50958555', 'protein_coding']"
      ]
     },
     "execution_count": 40,
     "metadata": {},
     "output_type": "execute_result"
    }
   ],
   "source": [
    "gene_annotation['ENSG00000000419.12']"
   ]
  },
  {
   "cell_type": "code",
   "execution_count": null,
   "metadata": {},
   "outputs": [],
   "source": []
  },
  {
   "cell_type": "code",
   "execution_count": 44,
   "metadata": {},
   "outputs": [],
   "source": [
    "cb_egene_dir = '/work-zfs/abattle4/heyuan/tissue_spec_eQTL_v8/datasets/cbset_datasets/caviar_output_GTEx_LD/aggregate'\n",
    "eGene_vec = []\n",
    "for tis in tissues:\n",
    "    fn = pd.read_csv('%s/%s_95set_pairs.txt' % (cb_egene_dir, tis), usecols=[0], sep='\\t', header=None)\n",
    "    eGene_vec.append(list(set(fn[0])))\n",
    "    \n",
    "eGene_vec = [a for b in eGene_vec for a in b]"
   ]
  },
  {
   "cell_type": "code",
   "execution_count": 62,
   "metadata": {},
   "outputs": [],
   "source": [
    "eGene_dict = pd.DataFrame.from_dict(Counter(eGene_vec), orient='index')\n",
    "eGene_dict = eGene_dict[eGene_dict[0] <4]"
   ]
  },
  {
   "cell_type": "code",
   "execution_count": 63,
   "metadata": {
    "scrolled": true
   },
   "outputs": [
    {
     "name": "stdout",
     "output_type": "stream",
     "text": [
      "Adipose_Subcutaneous 354\n",
      "Adipose_Visceral_Omentum 190\n",
      "Adrenal_Gland 146\n",
      "Artery_Aorta 175\n",
      "Artery_Coronary 42\n",
      "Artery_Tibial 254\n",
      "Brain_Amygdala 38\n",
      "Brain_Anterior_cingulate_cortex_BA24 86\n",
      "Brain_Caudate_basal_ganglia 181\n",
      "Brain_Cerebellar_Hemisphere 359\n",
      "Brain_Cerebellum 433\n",
      "Brain_Cortex 186\n",
      "Brain_Frontal_Cortex_BA9 135\n",
      "Brain_Hippocampus 66\n",
      "Brain_Hypothalamus 81\n",
      "Brain_Nucleus_accumbens_basal_ganglia 182\n",
      "Brain_Putamen_basal_ganglia 105\n",
      "Brain_Spinal_cord_cervical_c-1 74\n",
      "Brain_Substantia_nigra 30\n",
      "Breast_Mammary_Tissue 153\n",
      "Cells_EBV-transformed_lymphocytes 153\n",
      "Cells_Cultured_fibroblasts 472\n",
      "Colon_Sigmoid 114\n",
      "Colon_Transverse 260\n",
      "Esophagus_Gastroesophageal_Junction 86\n",
      "Esophagus_Mucosa 415\n",
      "Esophagus_Muscularis 170\n",
      "Heart_Atrial_Appendage 167\n",
      "Heart_Left_Ventricle 120\n",
      "Kidney_Cortex 45\n",
      "Liver 212\n",
      "Lung 387\n",
      "Minor_Salivary_Gland 95\n",
      "Muscle_Skeletal 322\n",
      "Nerve_Tibial 549\n",
      "Ovary 91\n",
      "Pancreas 217\n",
      "Pituitary 320\n",
      "Prostate 165\n",
      "Skin_Not_Sun_Exposed_Suprapubic 524\n",
      "Skin_Sun_Exposed_Lower_leg 642\n",
      "Small_Intestine_Terminal_Ileum 158\n",
      "Spleen 388\n",
      "Stomach 116\n",
      "Testis 3622\n",
      "Thyroid 668\n",
      "Uterus 42\n",
      "Vagina 54\n",
      "Whole_Blood 495\n"
     ]
    }
   ],
   "source": [
    "cb_egene_dir = '/work-zfs/abattle4/heyuan/tissue_spec_eQTL_v8/datasets/cbset_datasets/caviar_output_GTEx_LD/aggregate'\n",
    "\n",
    "for tis in tissues:\n",
    "    eGenes = pd.read_csv('%s/%s_95set_pairs.txt' % (cb_egene_dir, tis), usecols=[0], sep='\\t', header=None)\n",
    "    eGenes_uniq = np.intersect1d(list(set(eGenes[0])), eGene_dict.index)\n",
    "    print(tis, len(eGenes_uniq))\n",
    "    \n",
    "    outfn = open('%s/cbset_eGenes_topGene3_%s.txt' % (pairdir, tis), 'w')\n",
    "    for g in eGenes_uniq:\n",
    "        outfn.write('%s\\t%s\\n' % (g, gene_annotation[g][0]))\n",
    "    outfn.close()"
   ]
  },
  {
   "cell_type": "code",
   "execution_count": 60,
   "metadata": {},
   "outputs": [
    {
     "data": {
      "text/plain": [
       "4770"
      ]
     },
     "execution_count": 60,
     "metadata": {},
     "output_type": "execute_result"
    }
   ],
   "source": [
    "len(eGene_dict)"
   ]
  },
  {
   "cell_type": "code",
   "execution_count": null,
   "metadata": {},
   "outputs": [],
   "source": []
  },
  {
   "cell_type": "code",
   "execution_count": null,
   "metadata": {},
   "outputs": [],
   "source": []
  },
  {
   "cell_type": "code",
   "execution_count": null,
   "metadata": {},
   "outputs": [],
   "source": []
  }
 ],
 "metadata": {
  "anaconda-cloud": {},
  "kernelspec": {
   "display_name": "Python [default]",
   "language": "python",
   "name": "python3"
  },
  "language_info": {
   "codemirror_mode": {
    "name": "ipython",
    "version": 3
   },
   "file_extension": ".py",
   "mimetype": "text/x-python",
   "name": "python",
   "nbconvert_exporter": "python",
   "pygments_lexer": "ipython3",
   "version": "3.6.5"
  }
 },
 "nbformat": 4,
 "nbformat_minor": 1
}
